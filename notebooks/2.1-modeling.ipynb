{
 "cells": [
  {
   "cell_type": "code",
   "execution_count": 23,
   "metadata": {},
   "outputs": [],
   "source": [
    "import pandas as pd\n",
    "from xgboost import XGBRegressor, DMatrix, cv\n",
    "from pathlib import Path\n",
    "from sklearn.datasets import load_wine\n",
    "from sklearn.model_selection import train_test_split, GridSearchCV\n",
    "from sklearn.metrics import classification_report, mean_squared_error\n",
    "import numpy as np\n",
    "import warnings\n",
    "import time\n",
    "import sys\n",
    "import joblib\n",
    "from tqdm.auto import tqdm\n",
    "\n",
    "warnings.filterwarnings(\"ignore\")\n",
    "\n",
    "interim_path = Path(\"../data/interim\")\n",
    "models_path = Path(\"../models\")"
   ]
  },
  {
   "cell_type": "markdown",
   "metadata": {},
   "source": [
    "### Load 0.2/0.8 data. Train model."
   ]
  },
  {
   "cell_type": "code",
   "execution_count": 2,
   "metadata": {},
   "outputs": [],
   "source": [
    "X_train, y_train = pd.read_parquet(interim_path / \"train_x1.parquet\"), pd.read_parquet(interim_path / \"train_y1.parquet\")\n",
    "X_test, y_test = pd.read_parquet(interim_path / \"test_x1.parquet\"), pd.read_parquet(interim_path / \"test_y1.parquet\")\n",
    "\n",
    "y_train, y_test = y_train.rating, y_test.rating\n",
    "\n",
    "data_dmatrix = DMatrix(data=X_train, label=y_train)"
   ]
  },
  {
   "cell_type": "code",
   "execution_count": 3,
   "metadata": {},
   "outputs": [],
   "source": [
    "grid = GridSearchCV(\n",
    "            estimator=XGBRegressor(device=\"gpu\"),\n",
    "            param_grid={\"learning_rate\": (0.1, 0.2, 0.15),\n",
    "                        \"max_depth\": [ 3, 5, 12],\n",
    "                        \"n_estimators\":[200, 500, 800]},\n",
    "            cv=3, scoring='neg_mean_squared_error', verbose=1, n_jobs=1)"
   ]
  },
  {
   "cell_type": "code",
   "execution_count": 4,
   "metadata": {},
   "outputs": [],
   "source": [
    "# progress bar implementation from https://datascience.stackexchange.com/questions/114060/progress-bar-for-gridsearchcv\n",
    "def fit(model, *args, **kwargs):\n",
    "    class BarStdout:\n",
    "        def write(self, text):\n",
    "            if \"totalling\" in text and \"fits\" in text:\n",
    "                self.bar_size = int(text.split(\"totalling\")[1].split(\"fits\")[0][1:-1])\n",
    "                self.bar = tqdm(range(self.bar_size))\n",
    "                self.count = 0\n",
    "                return\n",
    "            if \"CV\" in text and hasattr(self,\"bar\"):\n",
    "                self.count += 1\n",
    "                self.bar.update(n=self.count-self.bar.n)\n",
    "                if self.count%(self.bar_size//10)==0:\n",
    "                    time.sleep(0.1)\n",
    "        def flush(self, text=None):\n",
    "            pass\n",
    "    default_stdout= sys.stdout\n",
    "    sys.stdout = BarStdout()\n",
    "    model.verbose = 10\n",
    "    model.fit(*args, **kwargs)\n",
    "    sys.stdout = default_stdout\n",
    "    return model"
   ]
  },
  {
   "cell_type": "code",
   "execution_count": 5,
   "metadata": {},
   "outputs": [
    {
     "data": {
      "application/vnd.jupyter.widget-view+json": {
       "model_id": "02faef92e3494471a8f185494fc3fb12",
       "version_major": 2,
       "version_minor": 0
      },
      "text/plain": [
       "  0%|          | 0/81 [00:00<?, ?it/s]"
      ]
     },
     "metadata": {},
     "output_type": "display_data"
    }
   ],
   "source": [
    "grid_result = fit(grid, X_train, y_train)"
   ]
  },
  {
   "cell_type": "code",
   "execution_count": 6,
   "metadata": {},
   "outputs": [
    {
     "data": {
      "text/plain": [
       "0.18986108188594247"
      ]
     },
     "execution_count": 6,
     "metadata": {},
     "output_type": "execute_result"
    }
   ],
   "source": [
    "np.sqrt(mean_squared_error(grid_result.predict(X_test), y_test))"
   ]
  },
  {
   "cell_type": "code",
   "execution_count": 7,
   "metadata": {},
   "outputs": [
    {
     "data": {
      "text/plain": [
       "{'learning_rate': 0.1, 'max_depth': 5, 'n_estimators': 500}"
      ]
     },
     "execution_count": 7,
     "metadata": {},
     "output_type": "execute_result"
    }
   ],
   "source": [
    "grid_result.best_params_"
   ]
  },
  {
   "cell_type": "markdown",
   "metadata": {},
   "source": [
    "### Load disjoint data. Train model."
   ]
  },
  {
   "cell_type": "code",
   "execution_count": 8,
   "metadata": {},
   "outputs": [],
   "source": [
    "X_train2, y_train2 = pd.read_parquet(interim_path / \"train_x2.parquet\"), pd.read_parquet(interim_path / \"train_y2.parquet\")\n",
    "X_test2, y_test2 = pd.read_parquet(interim_path / \"test_x2.parquet\"), pd.read_parquet(interim_path / \"test_y2.parquet\")\n",
    "\n",
    "y_train2, y_test2 = y_train2.rating, y_test2.rating\n",
    "\n",
    "data_dmatrix2 = DMatrix(data=X_train2, label=y_train2)"
   ]
  },
  {
   "cell_type": "code",
   "execution_count": 9,
   "metadata": {},
   "outputs": [],
   "source": [
    "grid2 = GridSearchCV(\n",
    "            estimator=XGBRegressor(device=\"gpu\"),\n",
    "            param_grid={\"learning_rate\": (0.1, 0.2, 0.15),\n",
    "                        \"max_depth\": [ 3, 10, 20],\n",
    "                        \"n_estimators\":[200, 500, 1000]},\n",
    "            cv=3, scoring='neg_mean_squared_error', verbose=1, n_jobs=1)"
   ]
  },
  {
   "cell_type": "code",
   "execution_count": 10,
   "metadata": {},
   "outputs": [
    {
     "data": {
      "application/vnd.jupyter.widget-view+json": {
       "model_id": "60b5f530542b423daacd059e761dbcdf",
       "version_major": 2,
       "version_minor": 0
      },
      "text/plain": [
       "  0%|          | 0/81 [00:00<?, ?it/s]"
      ]
     },
     "metadata": {},
     "output_type": "display_data"
    }
   ],
   "source": [
    "grid_result2 = fit(grid2, X_train2, y_train2)"
   ]
  },
  {
   "cell_type": "code",
   "execution_count": 11,
   "metadata": {},
   "outputs": [
    {
     "data": {
      "text/plain": [
       "0.2152094502537741"
      ]
     },
     "execution_count": 11,
     "metadata": {},
     "output_type": "execute_result"
    }
   ],
   "source": [
    "np.sqrt(mean_squared_error(grid_result2.predict(X_test2), y_test2))"
   ]
  },
  {
   "cell_type": "code",
   "execution_count": 13,
   "metadata": {},
   "outputs": [
    {
     "data": {
      "text/plain": [
       "{'learning_rate': 0.2, 'max_depth': 3, 'n_estimators': 1000}"
      ]
     },
     "execution_count": 13,
     "metadata": {},
     "output_type": "execute_result"
    }
   ],
   "source": [
    "grid_result2.best_params_"
   ]
  },
  {
   "cell_type": "markdown",
   "metadata": {},
   "source": [
    "### Save both models"
   ]
  },
  {
   "cell_type": "code",
   "execution_count": 16,
   "metadata": {},
   "outputs": [
    {
     "data": {
      "text/plain": [
       "['D:\\\\Productivity\\\\Studying\\\\PMLDL_A2\\\\models\\\\model_disjoint.pkl']"
      ]
     },
     "execution_count": 16,
     "metadata": {},
     "output_type": "execute_result"
    }
   ],
   "source": [
    "joblib.dump(grid_result, models_path / 'model_2080.pkl')\n",
    "joblib.dump(grid_result2, models_path / 'model_disjoint.pkl')"
   ]
  }
 ],
 "metadata": {
  "kernelspec": {
   "display_name": "Python 3",
   "language": "python",
   "name": "python3"
  },
  "language_info": {
   "codemirror_mode": {
    "name": "ipython",
    "version": 3
   },
   "file_extension": ".py",
   "mimetype": "text/x-python",
   "name": "python",
   "nbconvert_exporter": "python",
   "pygments_lexer": "ipython3",
   "version": "3.11.6"
  }
 },
 "nbformat": 4,
 "nbformat_minor": 2
}
