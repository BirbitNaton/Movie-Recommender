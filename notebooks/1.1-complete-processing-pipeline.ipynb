{
 "cells": [
  {
   "cell_type": "code",
   "execution_count": 1,
   "metadata": {},
   "outputs": [
    {
     "name": "stdout",
     "output_type": "stream",
     "text": [
      "INFO: Pandarallel will run on 8 workers.\n",
      "INFO: Pandarallel will use standard multiprocessing data transfer (pipe) to transfer data between the main process and workers.\n",
      "\n",
      "WARNING: You are on Windows. If you detect any issue with pandarallel, be sure you checked out the Troubleshooting page:\n",
      "https://nalepae.github.io/pandarallel/troubleshooting/\n"
     ]
    }
   ],
   "source": [
    "import pandas as pd\n",
    "from pathlib import Path\n",
    "from tqdm.auto import tqdm\n",
    "import numpy as np\n",
    "from dateutil import parser\n",
    "from pandarallel import pandarallel\n",
    "import spacy \n",
    "import pgeocode\n",
    "from sklearn.model_selection import train_test_split\n",
    "\n",
    "pandarallel.initialize(progress_bar=True)\n",
    "tqdm.pandas()\n",
    "\n",
    "nlp = spacy.load(\"en_core_web_sm\")\n",
    "tokenizer = nlp.tokenizer\n",
    "\n",
    "nomi = pgeocode.Nominatim('us')\n",
    "\n",
    "data_path = Path(r\"D:\\Productivity\\Studying\\PMLDL_A2\\data\\raw\\ml-100k\")\n",
    "interim_path = Path(r\"D:\\Productivity\\Studying\\PMLDL_A2\\data\\interim\")\n"
   ]
  },
  {
   "cell_type": "markdown",
   "metadata": {},
   "source": [
    "# Make a pipeline for processing subset of u.data"
   ]
  },
  {
   "cell_type": "code",
   "execution_count": 2,
   "metadata": {},
   "outputs": [],
   "source": [
    "def encode_date(date):\n",
    "    date = parser.parse(date)\n",
    "    return np.sin(date.day), np.cos(date.day), np.sin(date.month), np.cos(date.month), date.year\n",
    "\n",
    "def split_title(title):\n",
    "    *actural_title, release = title.split()\n",
    "    release = release.removeprefix(\"(\").removesuffix(\")\")\n",
    "    release = int(release) if release.isdigit() else np.nan\n",
    "    actural_title = \" \".join(actural_title)\n",
    "    return actural_title, release\n",
    "\n",
    "def embed(title):\n",
    "    return nlp(tokenizer(title)).vector\n",
    "\n",
    "\n",
    "def process_datasets(df):\n",
    "    df.columns = [\"user_id\", \"item_id\", \"rating\", \"timestamp\"]\n",
    "    \n",
    "    df_user = pd.read_csv(data_path / \"u.user\", sep= \"|\", encoding='latin-1', header=None, \n",
    "                          names=[\"id\", \"age\", \"gender\", \"occupation\", \"zip_code\"])\n",
    "    item_df = pd.read_csv(data_path / \"u.item\", sep= \"|\", encoding='latin-1', header=None)\n",
    "    df_occupation = pd.read_csv(data_path / \"u.occupation\", sep= \"|\", encoding='latin-1', header=None)\n",
    "\n",
    "    df_user = df_user[df_user.id.isin(df.user_id)]\n",
    "\n",
    "\n",
    "    df[\"timestamp\"] = df[\"timestamp\"].apply(lambda x: pd.Timestamp(x, unit=\"s\"))\n",
    "\n",
    "\n",
    "    item_df = item_df.drop(columns=[0, 3, 4])\n",
    "    item_df = item_df.dropna()\n",
    "\n",
    "    item_df[[\"title\", \"year1\"]] = item_df[1].progress_apply(split_title).progress_apply(pd.Series)\n",
    "    item_df.dropna(inplace=True)\n",
    "    item_df.drop(columns=[1], inplace=True)\n",
    "\n",
    "    embeddings = item_df[\"title\"].progress_apply(embed).parallel_apply(pd.Series)\n",
    "    item_df.drop(columns=[\"title\"], inplace=True)\n",
    "    item_df[\"year1\"] = (item_df[\"year1\"]-item_df[\"year1\"].min())/(item_df[\"year1\"].max()-item_df[\"year1\"].min())\n",
    "    item_df = pd.concat([item_df, embeddings], axis=1, ignore_index=True)\n",
    "\n",
    "    date_features = item_df[0].progress_apply(encode_date).parallel_apply(pd.Series)\n",
    "    date_features[4] = (date_features[4]-date_features[4].min())/(date_features[4].max()-date_features[4].min())\n",
    "\n",
    "    item_df.drop(columns=[0], inplace=True)\n",
    "    item_df = pd.concat([item_df, date_features], axis=1, ignore_index=True)\n",
    "\n",
    "    occupation_dtype = pd.CategoricalDtype(categories=df_occupation[0].to_list())\n",
    "    df_user[\"occupation\"] = pd.Series(df_user[\"occupation\"], dtype=occupation_dtype)\n",
    "    df_occupation = pd.get_dummies(df_user[\"occupation\"], dtype=float)\n",
    "\n",
    "    df_geo = df_user.zip_code.parallel_apply(nomi.query_postal_code)\n",
    "    coordinates = df_geo[[\"latitude\", \"longitude\"]]\n",
    "\n",
    "    df_user.age = (df_user.age-df_user.age.min())/(df_user.age.max()-df_user.age.min())\n",
    "    df_user.gender = df_user.gender.map({\"M\": 0, \"F\": 1})\n",
    "\n",
    "    df_user[[\"latitude\", \"longitude\"]] = coordinates\n",
    "    df_user.drop(columns=[\"zip_code\", \"occupation\"], inplace = True)\n",
    "    df_user = pd.concat([df_occupation, df_user], axis=1)\n",
    "    df_user.rename(columns={\"id\": \"user_id\"}, inplace=True)\n",
    "    df_user = df_user.set_index(\"user_id\", drop=True)\n",
    "\n",
    "    item_df[\"item_id\"] = item_df.index + 1\n",
    "    item_df.set_index(\"item_id\", drop=True, inplace=True)\n",
    "\n",
    "    df = df.join(item_df, on=\"item_id\").join(df_user, on=\"user_id\")\n",
    "    df.drop(columns=[\"user_id\", \"item_id\", \"timestamp\"], inplace=True)\n",
    "    df.dropna(inplace=True)\n",
    "\n",
    "    return df.drop(columns=\"rating\"), df.rating / 5"
   ]
  },
  {
   "cell_type": "code",
   "execution_count": 3,
   "metadata": {},
   "outputs": [],
   "source": [
    "df = pd.read_csv(data_path / \"u.data\", sep=\"\\t\", header=None)\n",
    "df.columns = [\"user_id\", \"item_id\", \"rating\", \"timestamp\"]"
   ]
  },
  {
   "cell_type": "markdown",
   "metadata": {},
   "source": [
    "# Train/test split"
   ]
  },
  {
   "cell_type": "markdown",
   "metadata": {},
   "source": [
    "Simply by 0.2 ratio"
   ]
  },
  {
   "cell_type": "code",
   "execution_count": 4,
   "metadata": {},
   "outputs": [
    {
     "data": {
      "application/vnd.jupyter.widget-view+json": {
       "model_id": "f10cb0d059854eb1a74dc6474d5c5de2",
       "version_major": 2,
       "version_minor": 0
      },
      "text/plain": [
       "  0%|          | 0/1681 [00:00<?, ?it/s]"
      ]
     },
     "metadata": {},
     "output_type": "display_data"
    },
    {
     "data": {
      "application/vnd.jupyter.widget-view+json": {
       "model_id": "a9bc6b77232a45128a320d3f6aab29f3",
       "version_major": 2,
       "version_minor": 0
      },
      "text/plain": [
       "  0%|          | 0/1681 [00:00<?, ?it/s]"
      ]
     },
     "metadata": {},
     "output_type": "display_data"
    },
    {
     "data": {
      "application/vnd.jupyter.widget-view+json": {
       "model_id": "2bb4c91c788d41aea8ce625b825cd191",
       "version_major": 2,
       "version_minor": 0
      },
      "text/plain": [
       "  0%|          | 0/1680 [00:00<?, ?it/s]"
      ]
     },
     "metadata": {},
     "output_type": "display_data"
    },
    {
     "data": {
      "application/vnd.jupyter.widget-view+json": {
       "model_id": "e92d8bedd60c411abb6471b77de7099e",
       "version_major": 2,
       "version_minor": 0
      },
      "text/plain": [
       "VBox(children=(HBox(children=(IntProgress(value=0, description='0.00%', max=210), Label(value='0 / 210'))), HB…"
      ]
     },
     "metadata": {},
     "output_type": "display_data"
    },
    {
     "data": {
      "application/vnd.jupyter.widget-view+json": {
       "model_id": "e6746fc36c884719a2ab7ecadf1a0ef9",
       "version_major": 2,
       "version_minor": 0
      },
      "text/plain": [
       "  0%|          | 0/1680 [00:00<?, ?it/s]"
      ]
     },
     "metadata": {},
     "output_type": "display_data"
    },
    {
     "data": {
      "application/vnd.jupyter.widget-view+json": {
       "model_id": "bc0b7fd3df11461baf54da5f20cb939d",
       "version_major": 2,
       "version_minor": 0
      },
      "text/plain": [
       "VBox(children=(HBox(children=(IntProgress(value=0, description='0.00%', max=210), Label(value='0 / 210'))), HB…"
      ]
     },
     "metadata": {},
     "output_type": "display_data"
    },
    {
     "data": {
      "application/vnd.jupyter.widget-view+json": {
       "model_id": "60c7d03edab84925bf017899fde3616f",
       "version_major": 2,
       "version_minor": 0
      },
      "text/plain": [
       "VBox(children=(HBox(children=(IntProgress(value=0, description='0.00%', max=118), Label(value='0 / 118'))), HB…"
      ]
     },
     "metadata": {},
     "output_type": "display_data"
    },
    {
     "data": {
      "application/vnd.jupyter.widget-view+json": {
       "model_id": "e02bbf1297bb415d96ed5d7621821a7c",
       "version_major": 2,
       "version_minor": 0
      },
      "text/plain": [
       "  0%|          | 0/1681 [00:00<?, ?it/s]"
      ]
     },
     "metadata": {},
     "output_type": "display_data"
    },
    {
     "data": {
      "application/vnd.jupyter.widget-view+json": {
       "model_id": "0106f7e51dea408f8ef4720f25f5ef32",
       "version_major": 2,
       "version_minor": 0
      },
      "text/plain": [
       "  0%|          | 0/1681 [00:00<?, ?it/s]"
      ]
     },
     "metadata": {},
     "output_type": "display_data"
    },
    {
     "data": {
      "application/vnd.jupyter.widget-view+json": {
       "model_id": "c359168b27564090bc42aff22514f5e1",
       "version_major": 2,
       "version_minor": 0
      },
      "text/plain": [
       "  0%|          | 0/1680 [00:00<?, ?it/s]"
      ]
     },
     "metadata": {},
     "output_type": "display_data"
    },
    {
     "data": {
      "application/vnd.jupyter.widget-view+json": {
       "model_id": "e36eb5efa41c4756b79ed422ee60b407",
       "version_major": 2,
       "version_minor": 0
      },
      "text/plain": [
       "VBox(children=(HBox(children=(IntProgress(value=0, description='0.00%', max=210), Label(value='0 / 210'))), HB…"
      ]
     },
     "metadata": {},
     "output_type": "display_data"
    },
    {
     "data": {
      "application/vnd.jupyter.widget-view+json": {
       "model_id": "2e42f073df3e4659a21617e9d0353734",
       "version_major": 2,
       "version_minor": 0
      },
      "text/plain": [
       "  0%|          | 0/1680 [00:00<?, ?it/s]"
      ]
     },
     "metadata": {},
     "output_type": "display_data"
    },
    {
     "data": {
      "application/vnd.jupyter.widget-view+json": {
       "model_id": "998b7e05604149a2b0dd6e4eee8df033",
       "version_major": 2,
       "version_minor": 0
      },
      "text/plain": [
       "VBox(children=(HBox(children=(IntProgress(value=0, description='0.00%', max=210), Label(value='0 / 210'))), HB…"
      ]
     },
     "metadata": {},
     "output_type": "display_data"
    },
    {
     "data": {
      "application/vnd.jupyter.widget-view+json": {
       "model_id": "462cb07f12dd4bfd9051d1f25cf12aa5",
       "version_major": 2,
       "version_minor": 0
      },
      "text/plain": [
       "VBox(children=(HBox(children=(IntProgress(value=0, description='0.00%', max=118), Label(value='0 / 118'))), HB…"
      ]
     },
     "metadata": {},
     "output_type": "display_data"
    }
   ],
   "source": [
    "df_train1, df_test1 = train_test_split(df, test_size=0.2, random_state=42)\n",
    "train_x1, train_y1 = process_datasets(df_train1)\n",
    "test_x1, test_y1 = process_datasets(df_test1)"
   ]
  },
  {
   "cell_type": "markdown",
   "metadata": {},
   "source": [
    "Disjoint users such that: \n",
    "* they all are asked an adequate but resourceful number of times\n",
    "* their answers' portion comprises to approximately 0.2 of total sample size "
   ]
  },
  {
   "cell_type": "code",
   "execution_count": 5,
   "metadata": {},
   "outputs": [
    {
     "data": {
      "text/plain": [
       "\"There're 20677 ratings by the test users. 79323 remain for training. The test ratio is 0.20677\""
      ]
     },
     "execution_count": 5,
     "metadata": {},
     "output_type": "execute_result"
    }
   ],
   "source": [
    "test_user_vc = df.user_id.value_counts()[df.user_id.value_counts().between(50, 120)]\n",
    "test_user_ids = test_user_vc.index\n",
    "num_test = test_user_vc[test_user_ids].sum()\n",
    "f\"There're {num_test} ratings by the test users. {df.shape[0]-num_test} remain for training. The test ratio is {num_test / df.shape[0]}\""
   ]
  },
  {
   "cell_type": "code",
   "execution_count": 6,
   "metadata": {},
   "outputs": [
    {
     "name": "stderr",
     "output_type": "stream",
     "text": [
      "C:\\Users\\Anthony\\AppData\\Local\\Temp\\ipykernel_4180\\522700716.py:27: SettingWithCopyWarning: \n",
      "A value is trying to be set on a copy of a slice from a DataFrame.\n",
      "Try using .loc[row_indexer,col_indexer] = value instead\n",
      "\n",
      "See the caveats in the documentation: https://pandas.pydata.org/pandas-docs/stable/user_guide/indexing.html#returning-a-view-versus-a-copy\n",
      "  df[\"timestamp\"] = df[\"timestamp\"].apply(lambda x: pd.Timestamp(x, unit=\"s\"))\n"
     ]
    },
    {
     "data": {
      "application/vnd.jupyter.widget-view+json": {
       "model_id": "92a716a765d444da85207e44ca1f03ae",
       "version_major": 2,
       "version_minor": 0
      },
      "text/plain": [
       "  0%|          | 0/1681 [00:00<?, ?it/s]"
      ]
     },
     "metadata": {},
     "output_type": "display_data"
    },
    {
     "data": {
      "application/vnd.jupyter.widget-view+json": {
       "model_id": "e122979531844e8ea583a9e6fc2e3b85",
       "version_major": 2,
       "version_minor": 0
      },
      "text/plain": [
       "  0%|          | 0/1681 [00:00<?, ?it/s]"
      ]
     },
     "metadata": {},
     "output_type": "display_data"
    },
    {
     "data": {
      "application/vnd.jupyter.widget-view+json": {
       "model_id": "936944ae635b4c369264f96647625935",
       "version_major": 2,
       "version_minor": 0
      },
      "text/plain": [
       "  0%|          | 0/1680 [00:00<?, ?it/s]"
      ]
     },
     "metadata": {},
     "output_type": "display_data"
    },
    {
     "data": {
      "application/vnd.jupyter.widget-view+json": {
       "model_id": "127d420d34a643b1bd70ffa1984f3c28",
       "version_major": 2,
       "version_minor": 0
      },
      "text/plain": [
       "VBox(children=(HBox(children=(IntProgress(value=0, description='0.00%', max=210), Label(value='0 / 210'))), HB…"
      ]
     },
     "metadata": {},
     "output_type": "display_data"
    },
    {
     "data": {
      "application/vnd.jupyter.widget-view+json": {
       "model_id": "83f5cb64674e4709b36de9458bd6f611",
       "version_major": 2,
       "version_minor": 0
      },
      "text/plain": [
       "  0%|          | 0/1680 [00:00<?, ?it/s]"
      ]
     },
     "metadata": {},
     "output_type": "display_data"
    },
    {
     "data": {
      "application/vnd.jupyter.widget-view+json": {
       "model_id": "f6cefa4d9b1a4f2f865e1afb9996c785",
       "version_major": 2,
       "version_minor": 0
      },
      "text/plain": [
       "VBox(children=(HBox(children=(IntProgress(value=0, description='0.00%', max=210), Label(value='0 / 210'))), HB…"
      ]
     },
     "metadata": {},
     "output_type": "display_data"
    },
    {
     "data": {
      "application/vnd.jupyter.widget-view+json": {
       "model_id": "d0ab0960133e4c0593c8f3618558462a",
       "version_major": 2,
       "version_minor": 0
      },
      "text/plain": [
       "VBox(children=(HBox(children=(IntProgress(value=0, description='0.00%', max=85), Label(value='0 / 85'))), HBox…"
      ]
     },
     "metadata": {},
     "output_type": "display_data"
    },
    {
     "name": "stderr",
     "output_type": "stream",
     "text": [
      "C:\\Users\\Anthony\\AppData\\Local\\Temp\\ipykernel_4180\\522700716.py:27: SettingWithCopyWarning: \n",
      "A value is trying to be set on a copy of a slice from a DataFrame.\n",
      "Try using .loc[row_indexer,col_indexer] = value instead\n",
      "\n",
      "See the caveats in the documentation: https://pandas.pydata.org/pandas-docs/stable/user_guide/indexing.html#returning-a-view-versus-a-copy\n",
      "  df[\"timestamp\"] = df[\"timestamp\"].apply(lambda x: pd.Timestamp(x, unit=\"s\"))\n"
     ]
    },
    {
     "data": {
      "application/vnd.jupyter.widget-view+json": {
       "model_id": "58211468e6c7453092a58aa83283f967",
       "version_major": 2,
       "version_minor": 0
      },
      "text/plain": [
       "  0%|          | 0/1681 [00:00<?, ?it/s]"
      ]
     },
     "metadata": {},
     "output_type": "display_data"
    },
    {
     "data": {
      "application/vnd.jupyter.widget-view+json": {
       "model_id": "fa47796560d2402db16dce3b15085f9d",
       "version_major": 2,
       "version_minor": 0
      },
      "text/plain": [
       "  0%|          | 0/1681 [00:00<?, ?it/s]"
      ]
     },
     "metadata": {},
     "output_type": "display_data"
    },
    {
     "data": {
      "application/vnd.jupyter.widget-view+json": {
       "model_id": "ca6daf56460343c09b3a96efb522cef7",
       "version_major": 2,
       "version_minor": 0
      },
      "text/plain": [
       "  0%|          | 0/1680 [00:00<?, ?it/s]"
      ]
     },
     "metadata": {},
     "output_type": "display_data"
    },
    {
     "data": {
      "application/vnd.jupyter.widget-view+json": {
       "model_id": "3ed6c71ebf044ab3a988a13392177dc7",
       "version_major": 2,
       "version_minor": 0
      },
      "text/plain": [
       "VBox(children=(HBox(children=(IntProgress(value=0, description='0.00%', max=210), Label(value='0 / 210'))), HB…"
      ]
     },
     "metadata": {},
     "output_type": "display_data"
    },
    {
     "data": {
      "application/vnd.jupyter.widget-view+json": {
       "model_id": "a1976a66142d4b2f80070fa140e51326",
       "version_major": 2,
       "version_minor": 0
      },
      "text/plain": [
       "  0%|          | 0/1680 [00:00<?, ?it/s]"
      ]
     },
     "metadata": {},
     "output_type": "display_data"
    },
    {
     "data": {
      "application/vnd.jupyter.widget-view+json": {
       "model_id": "92ccc7b7493f430a8f560b9a232b4953",
       "version_major": 2,
       "version_minor": 0
      },
      "text/plain": [
       "VBox(children=(HBox(children=(IntProgress(value=0, description='0.00%', max=210), Label(value='0 / 210'))), HB…"
      ]
     },
     "metadata": {},
     "output_type": "display_data"
    },
    {
     "data": {
      "application/vnd.jupyter.widget-view+json": {
       "model_id": "3253dba26e49417196751dfaddbbb970",
       "version_major": 2,
       "version_minor": 0
      },
      "text/plain": [
       "VBox(children=(HBox(children=(IntProgress(value=0, description='0.00%', max=34), Label(value='0 / 34'))), HBox…"
      ]
     },
     "metadata": {},
     "output_type": "display_data"
    }
   ],
   "source": [
    "df_train2 = df[~df.user_id.isin(test_user_ids)]\n",
    "df_test2 = df[df.user_id.isin(test_user_ids)]\n",
    "\n",
    "train_x2, train_y2 = process_datasets(df_train2)\n",
    "test_x2, test_y2 = process_datasets(df_test2)"
   ]
  },
  {
   "cell_type": "code",
   "execution_count": 7,
   "metadata": {},
   "outputs": [
    {
     "name": "stderr",
     "output_type": "stream",
     "text": [
      "C:\\Users\\Anthony\\AppData\\Local\\Packages\\PythonSoftwareFoundation.Python.3.11_qbz5n2kfra8p0\\LocalCache\\local-packages\\Python311\\site-packages\\pandas\\io\\parquet.py:189: UserWarning: The DataFrame has column names of mixed type. They will be converted to strings and not roundtrip correctly.\n",
      "  table = self.api.Table.from_pandas(df, **from_pandas_kwargs)\n"
     ]
    },
    {
     "data": {
      "text/plain": [
       "(None, None)"
      ]
     },
     "execution_count": 7,
     "metadata": {},
     "output_type": "execute_result"
    }
   ],
   "source": [
    "train_x1.to_parquet(interim_path / \"train_x1.parquet\"), pd.DataFrame(train_y1).to_parquet(interim_path / \"train_y1.parquet\")\n",
    "test_x1.to_parquet(interim_path / \"test_x1.parquet\"), pd.DataFrame(test_y1).to_parquet(interim_path / \"test_y1.parquet\")\n",
    "\n",
    "train_x2.to_parquet(interim_path / \"train_x2.parquet\"), pd.DataFrame(train_y2).to_parquet(interim_path / \"train_y2.parquet\")\n",
    "test_x2.to_parquet(interim_path / \"test_x2.parquet\"), pd.DataFrame(test_y2).to_parquet(interim_path / \"test_y2.parquet\")"
   ]
  },
  {
   "cell_type": "code",
   "execution_count": 10,
   "metadata": {},
   "outputs": [],
   "source": [
    "pd.DataFrame(test_user_ids).to_parquet(interim_path / \"test_user_ids.parquet\")"
   ]
  },
  {
   "cell_type": "code",
   "execution_count": null,
   "metadata": {},
   "outputs": [],
   "source": []
  }
 ],
 "metadata": {
  "kernelspec": {
   "display_name": "Python 3",
   "language": "python",
   "name": "python3"
  },
  "language_info": {
   "codemirror_mode": {
    "name": "ipython",
    "version": 3
   },
   "file_extension": ".py",
   "mimetype": "text/x-python",
   "name": "python",
   "nbconvert_exporter": "python",
   "pygments_lexer": "ipython3",
   "version": "3.11.6"
  }
 },
 "nbformat": 4,
 "nbformat_minor": 2
}
