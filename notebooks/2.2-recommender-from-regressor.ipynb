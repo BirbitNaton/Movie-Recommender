{
 "cells": [
  {
   "cell_type": "code",
   "execution_count": 119,
   "metadata": {},
   "outputs": [],
   "source": [
    "import pandas as pd\n",
    "import joblib\n",
    "from pathlib import Path\n",
    "from typing import Literal\n",
    "\n",
    "from data_processor import process_datasets"
   ]
  },
  {
   "cell_type": "markdown",
   "metadata": {},
   "source": [
    "## Define recommender"
   ]
  },
  {
   "cell_type": "code",
   "execution_count": 146,
   "metadata": {},
   "outputs": [],
   "source": [
    "class Recommender:\n",
    "    data_idx_mapping = {\n",
    "        \"2080\": 1, \n",
    "        \"disjoint\": 2\n",
    "    }\n",
    "    def __init__(self, \n",
    "                 estimator: Literal[\"2080\", \"disjoint\"] = \"disjoint\",\n",
    "                 models_dir: Path | str = Path(\"../models\"),\n",
    "                 data_dir: Path | str = Path(\"../data/interim\"),\n",
    "                 raw_data_path: Path | str = Path(\"../data/raw/ml-100k\")\n",
    "                 ):\n",
    "        self.estimator = estimator\n",
    "        self.models_dir = models_dir\n",
    "        self.data_dir = data_dir\n",
    "        self.raw_data_path = raw_data_path\n",
    "        self.u_data_path = raw_data_path / \"u.data\"\n",
    "\n",
    "        data_idx = self.data_idx_mapping[estimator]\n",
    "        self.train_x = pd.read_parquet(data_dir / f\"train_x{data_idx}.parquet\")\n",
    "        self.test_x = pd.read_parquet(data_dir / f\"test_x{data_idx}.parquet\")\n",
    "        self.train_y = pd.read_parquet(data_dir / f\"train_y{data_idx}.parquet\")\n",
    "        self.test_y = pd.read_parquet(data_dir / f\"test_y{data_idx}.parquet\")\n",
    "\n",
    "        self.model = joblib.load(models_dir / f\"model_{estimator}.pkl\")\n",
    "\n",
    "    def predict(self, data):\n",
    "        return self.model.predict(data)\n",
    "    \n",
    "    def recommend(self, user_ids, number_of_recs: int = 5):\n",
    "        item_df = pd.read_csv(self.raw_data_path / \"u.item\", sep= \"|\", encoding='latin-1', header=None)\n",
    "        item_df = item_df.iloc[:,:2]\n",
    "        item_df.columns = [\"item_id\", \"title\"]\n",
    "\n",
    "        u_data = pd.read_csv(self.u_data_path, sep=\"\\t\", header=None)\n",
    "        u_data.columns = [\"user_id\", \"item_id\", \"rating\", \"timestamp\"]\n",
    "        \n",
    "        u_data = u_data[u_data[\"user_id\"].isin(user_ids)]\n",
    "        \n",
    "        recommend_x, recommend_y = process_datasets(u_data)\n",
    "        ratings = self.predict(recommend_x)\n",
    "\n",
    "        recommend_x[[\"user_id\", \"item_id\"]] = u_data[[\"user_id\", \"item_id\"]]\n",
    "        recommendation = pd.concat([recommend_x.reset_index(), pd.Series(ratings, name=\"rating\")], axis=1)\n",
    "        recommendation.rating *= 5\n",
    "\n",
    "        recommendation = recommendation.join(item_df, on=\"item_id\", lsuffix=\"_drop\")\n",
    "        recommendation = recommendation[[\"user_id\", \"title\", \"rating\", \"item_id\"]]\n",
    "        recommendation = recommendation.groupby(by=[\"user_id\"]).apply(lambda x: x.sort_values(by=\"rating\", ascending=False)[:number_of_recs])\n",
    "\n",
    "        return recommendation"
   ]
  },
  {
   "cell_type": "code",
   "execution_count": 147,
   "metadata": {},
   "outputs": [],
   "source": [
    "recommender = Recommender()"
   ]
  },
  {
   "cell_type": "markdown",
   "metadata": {},
   "source": [
    "These user ids weren't used for the training of disjoint model. We can pick any of them to get the movies recommendations using the model. The 2080 model is there but is not representative enough as some user_id-item_id combinations could be in the training set.\n",
    "## Inference"
   ]
  },
  {
   "cell_type": "code",
   "execution_count": 148,
   "metadata": {},
   "outputs": [
    {
     "data": {
      "application/vnd.jupyter.widget-view+json": {
       "model_id": "a00c4aca56284f2a99821b3b393d5b57",
       "version_major": 2,
       "version_minor": 0
      },
      "text/plain": [
       "  0%|          | 0/1681 [00:00<?, ?it/s]"
      ]
     },
     "metadata": {},
     "output_type": "display_data"
    },
    {
     "data": {
      "application/vnd.jupyter.widget-view+json": {
       "model_id": "d883c0cb8ab14c2c9496f1b9ce994e44",
       "version_major": 2,
       "version_minor": 0
      },
      "text/plain": [
       "  0%|          | 0/1681 [00:00<?, ?it/s]"
      ]
     },
     "metadata": {},
     "output_type": "display_data"
    },
    {
     "data": {
      "application/vnd.jupyter.widget-view+json": {
       "model_id": "7360e181b9024487b02585aedb372d16",
       "version_major": 2,
       "version_minor": 0
      },
      "text/plain": [
       "  0%|          | 0/1680 [00:00<?, ?it/s]"
      ]
     },
     "metadata": {},
     "output_type": "display_data"
    },
    {
     "data": {
      "application/vnd.jupyter.widget-view+json": {
       "model_id": "8dc6ad25a1094edd965b3fca576c1d7a",
       "version_major": 2,
       "version_minor": 0
      },
      "text/plain": [
       "VBox(children=(HBox(children=(IntProgress(value=0, description='0.00%', max=210), Label(value='0 / 210'))), HB…"
      ]
     },
     "metadata": {},
     "output_type": "display_data"
    },
    {
     "data": {
      "application/vnd.jupyter.widget-view+json": {
       "model_id": "9056d09e27344169a8fa326fddf6b34a",
       "version_major": 2,
       "version_minor": 0
      },
      "text/plain": [
       "  0%|          | 0/1680 [00:00<?, ?it/s]"
      ]
     },
     "metadata": {},
     "output_type": "display_data"
    },
    {
     "data": {
      "application/vnd.jupyter.widget-view+json": {
       "model_id": "d4f4d7eca44c468c925d4c6edf54b662",
       "version_major": 2,
       "version_minor": 0
      },
      "text/plain": [
       "VBox(children=(HBox(children=(IntProgress(value=0, description='0.00%', max=210), Label(value='0 / 210'))), HB…"
      ]
     },
     "metadata": {},
     "output_type": "display_data"
    },
    {
     "data": {
      "application/vnd.jupyter.widget-view+json": {
       "model_id": "e946bf9090a348e9976dbf2f7a2bc7b2",
       "version_major": 2,
       "version_minor": 0
      },
      "text/plain": [
       "VBox(children=(HBox(children=(IntProgress(value=0, description='0.00%', max=1), Label(value='0 / 1'))), HBox(c…"
      ]
     },
     "metadata": {},
     "output_type": "display_data"
    },
    {
     "name": "stderr",
     "output_type": "stream",
     "text": [
      "C:\\Users\\Anthony\\AppData\\Local\\Packages\\PythonSoftwareFoundation.Python.3.11_qbz5n2kfra8p0\\LocalCache\\local-packages\\Python311\\site-packages\\xgboost\\data.py:335: FutureWarning: is_sparse is deprecated and will be removed in a future version. Check `isinstance(dtype, pd.SparseDtype)` instead.\n",
      "  if is_sparse(dtype):\n",
      "C:\\Users\\Anthony\\AppData\\Local\\Packages\\PythonSoftwareFoundation.Python.3.11_qbz5n2kfra8p0\\LocalCache\\local-packages\\Python311\\site-packages\\xgboost\\data.py:338: FutureWarning: is_categorical_dtype is deprecated and will be removed in a future version. Use isinstance(dtype, CategoricalDtype) instead\n",
      "  is_categorical_dtype(dtype) or is_pa_ext_categorical_dtype(dtype)\n",
      "C:\\Users\\Anthony\\AppData\\Local\\Packages\\PythonSoftwareFoundation.Python.3.11_qbz5n2kfra8p0\\LocalCache\\local-packages\\Python311\\site-packages\\xgboost\\data.py:384: FutureWarning: is_categorical_dtype is deprecated and will be removed in a future version. Use isinstance(dtype, CategoricalDtype) instead\n",
      "  if is_categorical_dtype(dtype):\n",
      "C:\\Users\\Anthony\\AppData\\Local\\Packages\\PythonSoftwareFoundation.Python.3.11_qbz5n2kfra8p0\\LocalCache\\local-packages\\Python311\\site-packages\\xgboost\\data.py:359: FutureWarning: is_categorical_dtype is deprecated and will be removed in a future version. Use isinstance(dtype, CategoricalDtype) instead\n",
      "  return is_int or is_bool or is_float or is_categorical_dtype(dtype)\n"
     ]
    },
    {
     "data": {
      "text/html": [
       "<div>\n",
       "<style scoped>\n",
       "    .dataframe tbody tr th:only-of-type {\n",
       "        vertical-align: middle;\n",
       "    }\n",
       "\n",
       "    .dataframe tbody tr th {\n",
       "        vertical-align: top;\n",
       "    }\n",
       "\n",
       "    .dataframe thead th {\n",
       "        text-align: right;\n",
       "    }\n",
       "</style>\n",
       "<table border=\"1\" class=\"dataframe\">\n",
       "  <thead>\n",
       "    <tr style=\"text-align: right;\">\n",
       "      <th></th>\n",
       "      <th></th>\n",
       "      <th>user_id</th>\n",
       "      <th>title</th>\n",
       "      <th>rating</th>\n",
       "      <th>item_id</th>\n",
       "    </tr>\n",
       "    <tr>\n",
       "      <th>user_id</th>\n",
       "      <th></th>\n",
       "      <th></th>\n",
       "      <th></th>\n",
       "      <th></th>\n",
       "      <th></th>\n",
       "    </tr>\n",
       "  </thead>\n",
       "  <tbody>\n",
       "    <tr>\n",
       "      <th rowspan=\"5\" valign=\"top\">160</th>\n",
       "      <th>259</th>\n",
       "      <td>160</td>\n",
       "      <td>Maltese Falcon, The (1941)</td>\n",
       "      <td>4.609278</td>\n",
       "      <td>484</td>\n",
       "    </tr>\n",
       "    <tr>\n",
       "      <th>412</th>\n",
       "      <td>160</td>\n",
       "      <td>Jack (1996)</td>\n",
       "      <td>4.568492</td>\n",
       "      <td>409</td>\n",
       "    </tr>\n",
       "    <tr>\n",
       "      <th>102</th>\n",
       "      <td>160</td>\n",
       "      <td>It Happened One Night (1934)</td>\n",
       "      <td>4.540579</td>\n",
       "      <td>604</td>\n",
       "    </tr>\n",
       "    <tr>\n",
       "      <th>125</th>\n",
       "      <td>160</td>\n",
       "      <td>Cinema Paradiso (1988)</td>\n",
       "      <td>4.516464</td>\n",
       "      <td>170</td>\n",
       "    </tr>\n",
       "    <tr>\n",
       "      <th>104</th>\n",
       "      <td>160</td>\n",
       "      <td>Legends of the Fall (1994)</td>\n",
       "      <td>4.497709</td>\n",
       "      <td>51</td>\n",
       "    </tr>\n",
       "    <tr>\n",
       "      <th rowspan=\"5\" valign=\"top\">264</th>\n",
       "      <th>213</th>\n",
       "      <td>264</td>\n",
       "      <td>Manchurian Candidate, The (1962)</td>\n",
       "      <td>4.757523</td>\n",
       "      <td>657</td>\n",
       "    </tr>\n",
       "    <tr>\n",
       "      <th>99</th>\n",
       "      <td>264</td>\n",
       "      <td>Stand by Me (1986)</td>\n",
       "      <td>4.478101</td>\n",
       "      <td>655</td>\n",
       "    </tr>\n",
       "    <tr>\n",
       "      <th>80</th>\n",
       "      <td>264</td>\n",
       "      <td>Forbidden Planet (1956)</td>\n",
       "      <td>4.394106</td>\n",
       "      <td>434</td>\n",
       "    </tr>\n",
       "    <tr>\n",
       "      <th>82</th>\n",
       "      <td>264</td>\n",
       "      <td>Disclosure (1994)</td>\n",
       "      <td>4.257335</td>\n",
       "      <td>43</td>\n",
       "    </tr>\n",
       "    <tr>\n",
       "      <th>232</th>\n",
       "      <td>264</td>\n",
       "      <td>Vertigo (1958)</td>\n",
       "      <td>4.214149</td>\n",
       "      <td>479</td>\n",
       "    </tr>\n",
       "    <tr>\n",
       "      <th rowspan=\"5\" valign=\"top\">459</th>\n",
       "      <th>403</th>\n",
       "      <td>459</td>\n",
       "      <td>Snow White and the Seven Dwarfs (1937)</td>\n",
       "      <td>5.391623</td>\n",
       "      <td>99</td>\n",
       "    </tr>\n",
       "    <tr>\n",
       "      <th>141</th>\n",
       "      <td>459</td>\n",
       "      <td>Hot Shots! Part Deux (1993)</td>\n",
       "      <td>5.222333</td>\n",
       "      <td>80</td>\n",
       "    </tr>\n",
       "    <tr>\n",
       "      <th>423</th>\n",
       "      <td>459</td>\n",
       "      <td>Supercop (1992)</td>\n",
       "      <td>5.141069</td>\n",
       "      <td>128</td>\n",
       "    </tr>\n",
       "    <tr>\n",
       "      <th>133</th>\n",
       "      <td>459</td>\n",
       "      <td>GoodFellas (1990)</td>\n",
       "      <td>5.111461</td>\n",
       "      <td>182</td>\n",
       "    </tr>\n",
       "    <tr>\n",
       "      <th>165</th>\n",
       "      <td>459</td>\n",
       "      <td>Dead Man Walking (1995)</td>\n",
       "      <td>5.055168</td>\n",
       "      <td>9</td>\n",
       "    </tr>\n",
       "    <tr>\n",
       "      <th rowspan=\"5\" valign=\"top\">890</th>\n",
       "      <th>415</th>\n",
       "      <td>890</td>\n",
       "      <td>Legends of the Fall (1994)</td>\n",
       "      <td>4.437537</td>\n",
       "      <td>51</td>\n",
       "    </tr>\n",
       "    <tr>\n",
       "      <th>584</th>\n",
       "      <td>890</td>\n",
       "      <td>Amadeus (1984)</td>\n",
       "      <td>4.313201</td>\n",
       "      <td>191</td>\n",
       "    </tr>\n",
       "    <tr>\n",
       "      <th>335</th>\n",
       "      <td>890</td>\n",
       "      <td>Harold and Maude (1971)</td>\n",
       "      <td>4.243998</td>\n",
       "      <td>428</td>\n",
       "    </tr>\n",
       "    <tr>\n",
       "      <th>385</th>\n",
       "      <td>890</td>\n",
       "      <td>Brazil (1985)</td>\n",
       "      <td>4.226839</td>\n",
       "      <td>175</td>\n",
       "    </tr>\n",
       "    <tr>\n",
       "      <th>337</th>\n",
       "      <td>890</td>\n",
       "      <td>Army of Darkness (1993)</td>\n",
       "      <td>4.223931</td>\n",
       "      <td>184</td>\n",
       "    </tr>\n",
       "    <tr>\n",
       "      <th rowspan=\"5\" valign=\"top\">927</th>\n",
       "      <th>519</th>\n",
       "      <td>927</td>\n",
       "      <td>What's Eating Gilbert Grape (1993)</td>\n",
       "      <td>3.615865</td>\n",
       "      <td>65</td>\n",
       "    </tr>\n",
       "    <tr>\n",
       "      <th>359</th>\n",
       "      <td>927</td>\n",
       "      <td>Hot Shots! Part Deux (1993)</td>\n",
       "      <td>3.447083</td>\n",
       "      <td>80</td>\n",
       "    </tr>\n",
       "    <tr>\n",
       "      <th>505</th>\n",
       "      <td>927</td>\n",
       "      <td>Dead Poets Society (1989)</td>\n",
       "      <td>3.318901</td>\n",
       "      <td>196</td>\n",
       "    </tr>\n",
       "    <tr>\n",
       "      <th>378</th>\n",
       "      <td>927</td>\n",
       "      <td>Four Weddings and a Funeral (1994)</td>\n",
       "      <td>3.258021</td>\n",
       "      <td>70</td>\n",
       "    </tr>\n",
       "    <tr>\n",
       "      <th>558</th>\n",
       "      <td>927</td>\n",
       "      <td>Dances with Wolves (1990)</td>\n",
       "      <td>3.248543</td>\n",
       "      <td>97</td>\n",
       "    </tr>\n",
       "  </tbody>\n",
       "</table>\n",
       "</div>"
      ],
      "text/plain": [
       "             user_id                                   title    rating  \\\n",
       "user_id                                                                  \n",
       "160     259      160              Maltese Falcon, The (1941)  4.609278   \n",
       "        412      160                             Jack (1996)  4.568492   \n",
       "        102      160            It Happened One Night (1934)  4.540579   \n",
       "        125      160                  Cinema Paradiso (1988)  4.516464   \n",
       "        104      160              Legends of the Fall (1994)  4.497709   \n",
       "264     213      264        Manchurian Candidate, The (1962)  4.757523   \n",
       "        99       264                      Stand by Me (1986)  4.478101   \n",
       "        80       264                 Forbidden Planet (1956)  4.394106   \n",
       "        82       264                       Disclosure (1994)  4.257335   \n",
       "        232      264                          Vertigo (1958)  4.214149   \n",
       "459     403      459  Snow White and the Seven Dwarfs (1937)  5.391623   \n",
       "        141      459             Hot Shots! Part Deux (1993)  5.222333   \n",
       "        423      459                         Supercop (1992)  5.141069   \n",
       "        133      459                       GoodFellas (1990)  5.111461   \n",
       "        165      459                 Dead Man Walking (1995)  5.055168   \n",
       "890     415      890              Legends of the Fall (1994)  4.437537   \n",
       "        584      890                          Amadeus (1984)  4.313201   \n",
       "        335      890                 Harold and Maude (1971)  4.243998   \n",
       "        385      890                           Brazil (1985)  4.226839   \n",
       "        337      890                 Army of Darkness (1993)  4.223931   \n",
       "927     519      927      What's Eating Gilbert Grape (1993)  3.615865   \n",
       "        359      927             Hot Shots! Part Deux (1993)  3.447083   \n",
       "        505      927               Dead Poets Society (1989)  3.318901   \n",
       "        378      927      Four Weddings and a Funeral (1994)  3.258021   \n",
       "        558      927               Dances with Wolves (1990)  3.248543   \n",
       "\n",
       "             item_id  \n",
       "user_id               \n",
       "160     259      484  \n",
       "        412      409  \n",
       "        102      604  \n",
       "        125      170  \n",
       "        104       51  \n",
       "264     213      657  \n",
       "        99       655  \n",
       "        80       434  \n",
       "        82        43  \n",
       "        232      479  \n",
       "459     403       99  \n",
       "        141       80  \n",
       "        423      128  \n",
       "        133      182  \n",
       "        165        9  \n",
       "890     415       51  \n",
       "        584      191  \n",
       "        335      428  \n",
       "        385      175  \n",
       "        337      184  \n",
       "927     519       65  \n",
       "        359       80  \n",
       "        505      196  \n",
       "        378       70  \n",
       "        558       97  "
      ]
     },
     "execution_count": 148,
     "metadata": {},
     "output_type": "execute_result"
    }
   ],
   "source": [
    "user_ids = pd.read_parquet(recommender.data_dir / \"test_user_ids.parquet\")\n",
    "recommendation = recommender.recommend(user_ids[\"user_id\"][:5])\n",
    "recommendation"
   ]
  },
  {
   "cell_type": "code",
   "execution_count": null,
   "metadata": {},
   "outputs": [],
   "source": []
  }
 ],
 "metadata": {
  "kernelspec": {
   "display_name": "Python 3",
   "language": "python",
   "name": "python3"
  },
  "language_info": {
   "codemirror_mode": {
    "name": "ipython",
    "version": 3
   },
   "file_extension": ".py",
   "mimetype": "text/x-python",
   "name": "python",
   "nbconvert_exporter": "python",
   "pygments_lexer": "ipython3",
   "version": "3.11.6"
  }
 },
 "nbformat": 4,
 "nbformat_minor": 2
}
